{
  "cells": [
    {
      "cell_type": "markdown",
      "metadata": {
        "id": "4e6NBlKgQEDD"
      },
      "source": [
        "**Vision Transformer**"
      ]
    },
    {
      "cell_type": "code",
      "execution_count": 1,
      "metadata": {
        "colab": {
          "base_uri": "https://localhost:8080/"
        },
        "id": "n3SaLXu2KR_e",
        "outputId": "2f7b1047-949a-4cab-bb3f-969799a5156b"
      },
      "outputs": [
        {
          "output_type": "stream",
          "name": "stdout",
          "text": [
            "[INFO] torch/torchvision versions not as required, installing nightly versions.\n",
            "Looking in indexes: https://pypi.org/simple, https://us-python.pkg.dev/colab-wheels/public/simple/, https://download.pytorch.org/whl/cu113\n",
            "Requirement already satisfied: torch in /usr/local/lib/python3.9/dist-packages (2.0.0+cu118)\n",
            "Requirement already satisfied: torchvision in /usr/local/lib/python3.9/dist-packages (0.15.1+cu118)\n",
            "Requirement already satisfied: torchaudio in /usr/local/lib/python3.9/dist-packages (2.0.1+cu118)\n",
            "Requirement already satisfied: filelock in /usr/local/lib/python3.9/dist-packages (from torch) (3.11.0)\n",
            "Requirement already satisfied: triton==2.0.0 in /usr/local/lib/python3.9/dist-packages (from torch) (2.0.0)\n",
            "Requirement already satisfied: typing-extensions in /usr/local/lib/python3.9/dist-packages (from torch) (4.5.0)\n",
            "Requirement already satisfied: jinja2 in /usr/local/lib/python3.9/dist-packages (from torch) (3.1.2)\n",
            "Requirement already satisfied: networkx in /usr/local/lib/python3.9/dist-packages (from torch) (3.1)\n",
            "Requirement already satisfied: sympy in /usr/local/lib/python3.9/dist-packages (from torch) (1.11.1)\n",
            "Requirement already satisfied: lit in /usr/local/lib/python3.9/dist-packages (from triton==2.0.0->torch) (16.0.1)\n",
            "Requirement already satisfied: cmake in /usr/local/lib/python3.9/dist-packages (from triton==2.0.0->torch) (3.25.2)\n",
            "Requirement already satisfied: numpy in /usr/local/lib/python3.9/dist-packages (from torchvision) (1.24.2)\n",
            "Requirement already satisfied: pillow!=8.3.*,>=5.3.0 in /usr/local/lib/python3.9/dist-packages (from torchvision) (8.4.0)\n",
            "Requirement already satisfied: requests in /usr/local/lib/python3.9/dist-packages (from torchvision) (2.27.1)\n",
            "Requirement already satisfied: MarkupSafe>=2.0 in /usr/local/lib/python3.9/dist-packages (from jinja2->torch) (2.1.2)\n",
            "Requirement already satisfied: charset-normalizer~=2.0.0 in /usr/local/lib/python3.9/dist-packages (from requests->torchvision) (2.0.12)\n",
            "Requirement already satisfied: certifi>=2017.4.17 in /usr/local/lib/python3.9/dist-packages (from requests->torchvision) (2022.12.7)\n",
            "Requirement already satisfied: idna<4,>=2.5 in /usr/local/lib/python3.9/dist-packages (from requests->torchvision) (3.4)\n",
            "Requirement already satisfied: urllib3<1.27,>=1.21.1 in /usr/local/lib/python3.9/dist-packages (from requests->torchvision) (1.26.15)\n",
            "Requirement already satisfied: mpmath>=0.19 in /usr/local/lib/python3.9/dist-packages (from sympy->torch) (1.3.0)\n",
            "torch version: 2.0.0+cu118\n",
            "torchvision version: 0.15.1+cu118\n"
          ]
        }
      ],
      "source": [
        "# For this notebook to run with updated APIs, we need torch 1.12+ and torchvision 0.13+\n",
        "try:\n",
        "    import torch\n",
        "    import torchvision\n",
        "    assert int(torch.__version__.split(\".\")[1]) >= 12, \"torch version should be 1.12+\"\n",
        "    assert int(torchvision.__version__.split(\".\")[1]) >= 13, \"torchvision version should be 0.13+\"\n",
        "    print(f\"torch version: {torch.__version__}\")\n",
        "    print(f\"torchvision version: {torchvision.__version__}\")\n",
        "except:\n",
        "    print(f\"[INFO] torch/torchvision versions not as required, installing nightly versions.\")\n",
        "    !pip3 install -U torch torchvision torchaudio --extra-index-url https://download.pytorch.org/whl/cu113\n",
        "    import torch\n",
        "    import torchvision\n",
        "    print(f\"torch version: {torch.__version__}\")\n",
        "    print(f\"torchvision version: {torchvision.__version__}\")"
      ]
    },
    {
      "cell_type": "code",
      "execution_count": 2,
      "metadata": {
        "colab": {
          "base_uri": "https://localhost:8080/"
        },
        "id": "JWN9Lt5nRiFN",
        "outputId": "e49af125-97bc-4b14-e7e2-4b6efa634863"
      },
      "outputs": [
        {
          "output_type": "stream",
          "name": "stdout",
          "text": [
            "[INFO] Couldn't find torchinfo... installing it.\n",
            "[INFO] Couldn't find going_modular or helper_functions scripts... downloading them from GitHub.\n",
            "Cloning into 'pytorch-deep-learning'...\n",
            "remote: Enumerating objects: 3685, done.\u001b[K\n",
            "remote: Counting objects: 100% (307/307), done.\u001b[K\n",
            "remote: Compressing objects: 100% (157/157), done.\u001b[K\n",
            "remote: Total 3685 (delta 158), reused 286 (delta 145), pack-reused 3378\u001b[K\n",
            "Receiving objects: 100% (3685/3685), 648.09 MiB | 24.11 MiB/s, done.\n",
            "Resolving deltas: 100% (2114/2114), done.\n",
            "Updating files: 100% (247/247), done.\n"
          ]
        }
      ],
      "source": [
        "# Continue with regular imports\n",
        "import matplotlib.pyplot as plt\n",
        "import torch\n",
        "import torchvision\n",
        "\n",
        "from torch import nn\n",
        "from torchvision import transforms\n",
        "\n",
        "# Try to get torchinfo, install it if it doesn't work\n",
        "try:\n",
        "    from torchinfo import summary\n",
        "except:\n",
        "    print(\"[INFO] Couldn't find torchinfo... installing it.\")\n",
        "    !pip install -q torchinfo\n",
        "    from torchinfo import summary\n",
        "\n",
        "# Try to import the going_modular directory, download it from GitHub if it doesn't work\n",
        "try:\n",
        "    from going_modular.going_modular import data_setup, engine\n",
        "    from helper_functions import download_data, set_seeds, plot_loss_curves\n",
        "except:\n",
        "    # Get the going_modular scripts\n",
        "    print(\"[INFO] Couldn't find going_modular or helper_functions scripts... downloading them from GitHub.\")\n",
        "    !git clone https://github.com/mrdbourke/pytorch-deep-learning\n",
        "    !mv pytorch-deep-learning/going_modular .\n",
        "    !mv pytorch-deep-learning/helper_functions.py . # get the helper_functions.py script\n",
        "    !rm -rf pytorch-deep-learning\n",
        "    from going_modular.going_modular import data_setup, engine\n",
        "    from helper_functions import download_data, set_seeds, plot_loss_curves"
      ]
    },
    {
      "cell_type": "code",
      "execution_count": 3,
      "metadata": {
        "colab": {
          "base_uri": "https://localhost:8080/",
          "height": 36
        },
        "id": "_ur2gnBKTLQv",
        "outputId": "a291263f-dd46-4d7e-ae7a-b3bbf39edd41"
      },
      "outputs": [
        {
          "output_type": "execute_result",
          "data": {
            "text/plain": [
              "'cpu'"
            ],
            "application/vnd.google.colaboratory.intrinsic+json": {
              "type": "string"
            }
          },
          "metadata": {},
          "execution_count": 3
        }
      ],
      "source": [
        "device = \"cuda\" if torch.cuda.is_available() else \"cpu\"\n",
        "device"
      ]
    },
    {
      "cell_type": "markdown",
      "metadata": {
        "id": "ms8_mNQwpYs6"
      },
      "source": [
        "**Get data**"
      ]
    },
    {
      "cell_type": "code",
      "execution_count": 4,
      "metadata": {
        "colab": {
          "base_uri": "https://localhost:8080/"
        },
        "id": "3yNU8dIdTO74",
        "outputId": "49d3b803-a86c-4b64-ff4f-396fb7738752"
      },
      "outputs": [
        {
          "output_type": "stream",
          "name": "stdout",
          "text": [
            "[INFO] Did not find data/pizza_steak_sushi directory, creating one...\n",
            "[INFO] Downloading pizza_steak_sushi.zip from https://github.com/mrdbourke/pytorch-deep-learning/raw/main/data/pizza_steak_sushi.zip...\n",
            "[INFO] Unzipping pizza_steak_sushi.zip data...\n"
          ]
        },
        {
          "output_type": "execute_result",
          "data": {
            "text/plain": [
              "PosixPath('data/pizza_steak_sushi')"
            ]
          },
          "metadata": {},
          "execution_count": 4
        }
      ],
      "source": [
        "# Download pizza, steak, sushi images from GitHub\n",
        "image_path = download_data(source=\"https://github.com/mrdbourke/pytorch-deep-learning/raw/main/data/pizza_steak_sushi.zip\",\n",
        "                           destination=\"pizza_steak_sushi\")\n",
        "image_path"
      ]
    },
    {
      "cell_type": "code",
      "execution_count": 5,
      "metadata": {
        "id": "aMYbF5TgTqPc"
      },
      "outputs": [],
      "source": [
        "# Setup directory paths to train and test images\n",
        "train_dir = image_path / \"train\"\n",
        "test_dir = image_path / \"test\""
      ]
    },
    {
      "cell_type": "markdown",
      "metadata": {
        "id": "68tyblacp5Ol"
      },
      "source": [
        "**Pre Processing Data**"
      ]
    },
    {
      "cell_type": "code",
      "execution_count": 6,
      "metadata": {
        "colab": {
          "base_uri": "https://localhost:8080/"
        },
        "id": "-_v4pNRVUJJ0",
        "outputId": "fa3db4e8-2e18-495b-d489-b24d43243983"
      },
      "outputs": [
        {
          "output_type": "stream",
          "name": "stdout",
          "text": [
            "Manually created transforms: Compose(\n",
            "    Resize(size=(224, 224), interpolation=bilinear, max_size=None, antialias=warn)\n",
            "    ToTensor()\n",
            ")\n"
          ]
        }
      ],
      "source": [
        "# Create image size (from Table 3 in the ViT paper) \n",
        "IMG_SIZE = 224\n",
        "\n",
        "# Create transform pipeline manually\n",
        "manual_transforms = transforms.Compose([\n",
        "    transforms.Resize((IMG_SIZE, IMG_SIZE)),\n",
        "    transforms.ToTensor(),\n",
        "])           \n",
        "print(f\"Manually created transforms: {manual_transforms}\") "
      ]
    },
    {
      "cell_type": "code",
      "execution_count": 7,
      "metadata": {
        "colab": {
          "base_uri": "https://localhost:8080/"
        },
        "id": "i3UWvtyORCAM",
        "outputId": "c3b2b74b-3d9b-4513-c35a-29bcc6fa8cb0"
      },
      "outputs": [
        {
          "output_type": "execute_result",
          "data": {
            "text/plain": [
              "(<torch.utils.data.dataloader.DataLoader at 0x7ff63ace2c10>,\n",
              " <torch.utils.data.dataloader.DataLoader at 0x7ff63aba1b50>,\n",
              " ['pizza', 'steak', 'sushi'])"
            ]
          },
          "metadata": {},
          "execution_count": 7
        }
      ],
      "source": [
        "# Set the batch size\n",
        "BATCH_SIZE = 32 # this is lower than the ViT paper but it's because we're starting small\n",
        "\n",
        "# Create data loaders\n",
        "train_dataloader, test_dataloader, class_names = data_setup.create_dataloaders(\n",
        "    train_dir=train_dir,\n",
        "    test_dir=test_dir,\n",
        "    transform=manual_transforms, # use manually created transforms\n",
        "    batch_size=BATCH_SIZE\n",
        ")\n",
        "\n",
        "train_dataloader, test_dataloader, class_names"
      ]
    },
    {
      "cell_type": "code",
      "execution_count": 8,
      "metadata": {
        "colab": {
          "base_uri": "https://localhost:8080/"
        },
        "id": "qhJ5AvqqRKeV",
        "outputId": "e57a21ff-6106-44b9-9158-82bb150a0606"
      },
      "outputs": [
        {
          "output_type": "execute_result",
          "data": {
            "text/plain": [
              "(torch.Size([3, 224, 224]), tensor(0))"
            ]
          },
          "metadata": {},
          "execution_count": 8
        }
      ],
      "source": [
        "# Get a batch of images\n",
        "image_batch, label_batch = next(iter(train_dataloader))\n",
        "\n",
        "# Get a single image from the batch\n",
        "image, label = image_batch[1], label_batch[1]\n",
        "\n",
        "# View the batch shapes\n",
        "image.shape, label"
      ]
    },
    {
      "cell_type": "code",
      "execution_count": 9,
      "metadata": {
        "colab": {
          "base_uri": "https://localhost:8080/",
          "height": 428
        },
        "id": "gx0awJk7RL2C",
        "outputId": "64915a4a-6aa4-40aa-f4d4-e41c2e394727"
      },
      "outputs": [
        {
          "output_type": "display_data",
          "data": {
            "text/plain": [
              "<Figure size 640x480 with 1 Axes>"
            ],
            "image/png": "[encoded data removed]"
          },
          "metadata": {}
        }
      ],
      "source": [
        "# Plot image with matplotlib\n",
        "plt.imshow(image.permute(1, 2, 0)) # rearrange image dimensions to suit matplotlib [color_channels, height, width] -> [height, width, color_channels]\n",
        "plt.title(class_names[label])\n",
        "plt.axis(False);"
      ]
    },
    {
      "cell_type": "markdown",
      "metadata": {
        "id": "K2aqcpeEvBuu"
      },
      "source": [
        "**Make patch Embedding layer**"
      ]
    },
    {
      "cell_type": "code",
      "execution_count": 10,
      "metadata": {
        "colab": {
          "base_uri": "https://localhost:8080/"
        },
        "id": "UOIVQ2nMz2Fi",
        "outputId": "d777ab53-f711-4204-e78e-85afde01f2bf"
      },
      "outputs": [
        {
          "output_type": "execute_result",
          "data": {
            "text/plain": [
              "torch.Size([32, 3, 224, 224])"
            ]
          },
          "metadata": {},
          "execution_count": 10
        }
      ],
      "source": [
        "rand_image_tensor = torch.randn(32,3,224,224)  # in pytorch, the color channel  comes first\n",
        "rand_image_tensor.shape"
      ]
    },
    {
      "cell_type": "code",
      "execution_count": 11,
      "metadata": {
        "id": "BS-z4N5mvFcY"
      },
      "outputs": [],
      "source": [
        "# 1. Create a class which subclasses nn.Module\n",
        "class PatchEmbedding(nn.Module):\n",
        "    \"\"\"Turns a 2D input image into a 1D sequence learnable embedding vector.\n",
        "    \n",
        "    Args:\n",
        "        in_channels (int): Number of color channels for the input images. Defaults to 3.\n",
        "        patch_size (int): Size of patches to convert input image into. Defaults to 16.\n",
        "        embedding_dim (int): Size of embedding to turn image into. Defaults to 768.\n",
        "    \"\"\" \n",
        "    # 2. Initialize the class with appropriate variables\n",
        "    def __init__(self, \n",
        "                 in_channels:int=3,\n",
        "                 patch_size:int=16,\n",
        "                 embedding_dim:int=768):\n",
        "        super().__init__()\n",
        "        self.patch_size = patch_size\n",
        "        \n",
        "        # 3. Create a layer to turn an image into patches\n",
        "        self.patcher = nn.Conv2d(in_channels=in_channels,\n",
        "                                 out_channels=embedding_dim,\n",
        "                                 kernel_size=patch_size,\n",
        "                                 stride=patch_size,\n",
        "                                 padding=0)\n",
        "\n",
        "        # 4. Create a layer to flatten the patch feature maps into a single dimension\n",
        "        self.flatten = nn.Flatten(start_dim=2, # only flatten the feature map dimensions into a single vector\n",
        "                                  end_dim=3)\n",
        "\n",
        "    # 5. Define the forward method \n",
        "    def forward(self, x):\n",
        "        # Create assertion to check that inputs are the correct shape\n",
        "        image_resolution = x.shape[-1]\n",
        "        assert image_resolution % self.patch_size == 0, f\"Input image size must be divisble by patch size, image shape: {image_resolution}, patch size: {self.patch_size}\"\n",
        "        \n",
        "        # Perform the forward pass\n",
        "        x_patched = self.patcher(x)\n",
        "        x_flattened = self.flatten(x_patched) \n",
        "        # 6. Make sure the output shape has the right order \n",
        "        return x_flattened.permute(0, 2, 1) # adjust so the embedding is on the final dimension [batch_size, P^2•C, N] -> [batch_size, N, P^2•C]"
      ]
    },
    {
      "cell_type": "code",
      "execution_count": 12,
      "metadata": {
        "colab": {
          "base_uri": "https://localhost:8080/"
        },
        "id": "okVJ4MMc1Ew9",
        "outputId": "35962806-1964-420e-99a2-99cba4162ed3"
      },
      "outputs": [
        {
          "output_type": "stream",
          "name": "stdout",
          "text": [
            "input share: torch.Size([32, 3, 224, 224])\n",
            "output shape: torch.Size([32, 196, 768]) -->(batch_size, num_patches, embedding_dim)\n"
          ]
        }
      ],
      "source": [
        "patch_embedding = PatchEmbedding(patch_size=16)\n",
        "patch_embedding_output = patch_embedding(rand_image_tensor)\n",
        "print(f\"input share: {rand_image_tensor.shape}\")\n",
        "print(f\"output shape: {patch_embedding_output.shape} -->(batch_size, num_patches, embedding_dim)\")"
      ]
    },
    {
      "cell_type": "markdown",
      "metadata": {
        "id": "bat0iPkkzHYf"
      },
      "source": [
        "**Transformer Encoder Layer**"
      ]
    },
    {
      "cell_type": "code",
      "execution_count": 13,
      "metadata": {
        "colab": {
          "base_uri": "https://localhost:8080/"
        },
        "id": "zaub0lcczHFe",
        "outputId": "7f628d08-e48c-4f66-9ca6-e7176cea1679"
      },
      "outputs": [
        {
          "output_type": "execute_result",
          "data": {
            "text/plain": [
              "TransformerEncoderLayer(\n",
              "  (self_attn): MultiheadAttention(\n",
              "    (out_proj): NonDynamicallyQuantizableLinear(in_features=768, out_features=768, bias=True)\n",
              "  )\n",
              "  (linear1): Linear(in_features=768, out_features=3072, bias=True)\n",
              "  (dropout): Dropout(p=0.1, inplace=False)\n",
              "  (linear2): Linear(in_features=3072, out_features=768, bias=True)\n",
              "  (norm1): LayerNorm((768,), eps=1e-05, elementwise_affine=True)\n",
              "  (norm2): LayerNorm((768,), eps=1e-05, elementwise_affine=True)\n",
              "  (dropout1): Dropout(p=0.1, inplace=False)\n",
              "  (dropout2): Dropout(p=0.1, inplace=False)\n",
              ")"
            ]
          },
          "metadata": {},
          "execution_count": 13
        }
      ],
      "source": [
        "transformer_encoder_layer = nn.TransformerEncoderLayer(d_model= 768,\n",
        "                                                       nhead = 12,\n",
        "                                                       dim_feedforward=3072,\n",
        "                                                       dropout=0.1,\n",
        "                                                       activation=\"gelu\",\n",
        "                                                       batch_first=True,\n",
        "                                                       norm_first =True)\n",
        "transformer_encoder_layer"
      ]
    },
    {
      "cell_type": "code",
      "execution_count": 14,
      "metadata": {
        "colab": {
          "base_uri": "https://localhost:8080/"
        },
        "id": "fp6QDuljBCzc",
        "outputId": "ba9de967-446b-49f3-b1d8-aef96eb102ba"
      },
      "outputs": [
        {
          "output_type": "stream",
          "name": "stderr",
          "text": [
            "/usr/local/lib/python3.9/dist-packages/torchinfo/torchinfo.py:477: UserWarning: TypedStorage is deprecated. It will be removed in the future and UntypedStorage will be the only storage class. This should only matter to you if you are using storages directly.  To access UntypedStorage directly, use tensor.untyped_storage() instead of tensor.storage()\n",
            "  action_fn=lambda data: sys.getsizeof(data.storage()),\n",
            "/usr/local/lib/python3.9/dist-packages/torch/storage.py:665: UserWarning: TypedStorage is deprecated. It will be removed in the future and UntypedStorage will be the only storage class. This should only matter to you if you are using storages directly.  To access UntypedStorage directly, use tensor.untyped_storage() instead of tensor.storage()\n",
            "  return super().__sizeof__() + self.nbytes()\n"
          ]
        },
        {
          "output_type": "execute_result",
          "data": {
            "text/plain": [
              "==========================================================================================\n",
              "Layer (type:depth-idx)                   Output Shape              Param #\n",
              "==========================================================================================\n",
              "TransformerEncoderLayer                  [32, 196, 768]            7,087,872\n",
              "==========================================================================================\n",
              "Total params: 7,087,872\n",
              "Trainable params: 7,087,872\n",
              "Non-trainable params: 0\n",
              "Total mult-adds (M): 0\n",
              "==========================================================================================\n",
              "Input size (MB): 19.27\n",
              "Forward/backward pass size (MB): 0.00\n",
              "Params size (MB): 0.00\n",
              "Estimated Total Size (MB): 19.27\n",
              "=========================================================================================="
            ]
          },
          "metadata": {},
          "execution_count": 14
        }
      ],
      "source": [
        "from torchinfo import summary\n",
        "\n",
        "summary(model=transformer_encoder_layer,\n",
        "        input_size=patch_embedding_output.shape)"
      ]
    },
    {
      "cell_type": "code",
      "execution_count": 15,
      "metadata": {
        "id": "mbvdpWVcDy1e"
      },
      "outputs": [],
      "source": [
        "## stack Transformer Encoder layer on top of each other to build full encoder layer"
      ]
    },
    {
      "cell_type": "code",
      "execution_count": 16,
      "metadata": {
        "colab": {
          "base_uri": "https://localhost:8080/"
        },
        "id": "9Ng4hF5mD70Z",
        "outputId": "4d89e331-8c00-4ad3-a17d-e00ac947d58a"
      },
      "outputs": [
        {
          "output_type": "execute_result",
          "data": {
            "text/plain": [
              "TransformerEncoder(\n",
              "  (layers): ModuleList(\n",
              "    (0-11): 12 x TransformerEncoderLayer(\n",
              "      (self_attn): MultiheadAttention(\n",
              "        (out_proj): NonDynamicallyQuantizableLinear(in_features=768, out_features=768, bias=True)\n",
              "      )\n",
              "      (linear1): Linear(in_features=768, out_features=3072, bias=True)\n",
              "      (dropout): Dropout(p=0.1, inplace=False)\n",
              "      (linear2): Linear(in_features=3072, out_features=768, bias=True)\n",
              "      (norm1): LayerNorm((768,), eps=1e-05, elementwise_affine=True)\n",
              "      (norm2): LayerNorm((768,), eps=1e-05, elementwise_affine=True)\n",
              "      (dropout1): Dropout(p=0.1, inplace=False)\n",
              "      (dropout2): Dropout(p=0.1, inplace=False)\n",
              "    )\n",
              "  )\n",
              ")"
            ]
          },
          "metadata": {},
          "execution_count": 16
        }
      ],
      "source": [
        "transformer_encoder = nn.TransformerEncoder(\n",
        "    encoder_layer =transformer_encoder_layer,\n",
        "    num_layers=12)\n",
        "\n",
        "transformer_encoder"
      ]
    },
    {
      "cell_type": "code",
      "execution_count": 17,
      "metadata": {
        "colab": {
          "base_uri": "https://localhost:8080/"
        },
        "id": "quZiFu1aFQ68",
        "outputId": "75954993-41fe-44c8-df80-f5e9e0138a3b"
      },
      "outputs": [
        {
          "output_type": "execute_result",
          "data": {
            "text/plain": [
              "==========================================================================================\n",
              "Layer (type:depth-idx)                   Output Shape              Param #\n",
              "==========================================================================================\n",
              "TransformerEncoder                       [32, 196, 768]            --\n",
              "├─ModuleList: 1-1                        --                        --\n",
              "│    └─TransformerEncoderLayer: 2-1      [32, 196, 768]            7,087,872\n",
              "│    └─TransformerEncoderLayer: 2-2      [32, 196, 768]            7,087,872\n",
              "│    └─TransformerEncoderLayer: 2-3      [32, 196, 768]            7,087,872\n",
              "│    └─TransformerEncoderLayer: 2-4      [32, 196, 768]            7,087,872\n",
              "│    └─TransformerEncoderLayer: 2-5      [32, 196, 768]            7,087,872\n",
              "│    └─TransformerEncoderLayer: 2-6      [32, 196, 768]            7,087,872\n",
              "│    └─TransformerEncoderLayer: 2-7      [32, 196, 768]            7,087,872\n",
              "│    └─TransformerEncoderLayer: 2-8      [32, 196, 768]            7,087,872\n",
              "│    └─TransformerEncoderLayer: 2-9      [32, 196, 768]            7,087,872\n",
              "│    └─TransformerEncoderLayer: 2-10     [32, 196, 768]            7,087,872\n",
              "│    └─TransformerEncoderLayer: 2-11     [32, 196, 768]            7,087,872\n",
              "│    └─TransformerEncoderLayer: 2-12     [32, 196, 768]            7,087,872\n",
              "==========================================================================================\n",
              "Total params: 85,054,464\n",
              "Trainable params: 85,054,464\n",
              "Non-trainable params: 0\n",
              "Total mult-adds (M): 0\n",
              "==========================================================================================\n",
              "Input size (MB): 19.27\n",
              "Forward/backward pass size (MB): 0.00\n",
              "Params size (MB): 0.00\n",
              "Estimated Total Size (MB): 19.27\n",
              "=========================================================================================="
            ]
          },
          "metadata": {},
          "execution_count": 17
        }
      ],
      "source": [
        "##summery of transformer_encoder\n",
        "summary(model=transformer_encoder,\n",
        "        input_size=patch_embedding_output.shape)"
      ]
    },
    {
      "cell_type": "code",
      "execution_count": 18,
      "metadata": {
        "id": "J9aqas8ykap_"
      },
      "outputs": [],
      "source": [
        "class ViT(nn.Module):\n",
        "  def __init__(self,\n",
        "               img_size = 224,\n",
        "               num_channels=3,\n",
        "               patch_size =16,\n",
        "               embedding_dim=768,\n",
        "               dropout=0.1,\n",
        "               mlp_size=3072,\n",
        "               num_transformer_layers=12,\n",
        "               num_heads=12,\n",
        "               num_classes=1000):\n",
        "    super().__init__()\n",
        "\n",
        "\n",
        "    ## Assert image size is devisible by patch size\n",
        "\n",
        "    assert img_size % patch_size == 0, \"image size must be divisble by patch size\"\n",
        "\n",
        "    #1. create patch Embedding\n",
        "\n",
        "    self.patch_embedding = PatchEmbedding(in_channels=num_channels,\n",
        "                                          patch_size = patch_size,\n",
        "                                          embedding_dim = embedding_dim)\n",
        "    \n",
        "    #2. Create class token\n",
        "\n",
        "    self.class_token = nn.Parameter(torch.randn(1,1,embedding_dim),\n",
        "                                    requires_grad=True)\n",
        "    \n",
        "    #3. Create positional embedding\n",
        "\n",
        "    num_patches = (img_size * img_size) // patch_size**2 # N = HW/p^2\n",
        "    self.positional_embedding = nn.Parameter(torch.randn(1, num_patches+1, embedding_dim))\n",
        "\n",
        "    #4. create patch + positional embedding drpout\n",
        "\n",
        "    self.embedding_dropout = nn.Dropout(p=dropout)\n",
        "\n",
        "    #5. create Transformer Encoder layer(single)\n",
        "    # self.transformer_encoder_layer = nn.TransformerEncoderLayer(d_model=embedding_dim,\n",
        "    #                                                             nhead=num_heads,\n",
        "    #                                                             dim_feedforward=mlp_size,\n",
        "    #                                                             activation=\"gelu\",\n",
        "    #                                                             batch_first=True,\n",
        "    #                                                             norm_first=True)\n",
        "    #6. Create stack Transformer Encoder layer (stacked single layer)\n",
        "    self.transofrmer_encoder = nn.TransformerEncoder(encoder_layer = nn.TransformerEncoderLayer(d_model=embedding_dim,\n",
        "                                                                                                nhead=num_heads,\n",
        "                                                                                                dim_feedforward=mlp_size,\n",
        "                                                                                                activation=\"gelu\",\n",
        "                                                                                                batch_first=True,\n",
        "                                                                                                norm_first=True), #create single Transformer Encoder layer\n",
        "                                                     num_layers=num_transformer_layers) #stack it N times\n",
        "    \n",
        "    #7 create MLP head\n",
        "\n",
        "    self.mlp_head = nn.Sequential(\n",
        "        nn.LayerNorm(normalized_shape=embedding_dim),\n",
        "        nn.Linear(in_features=embedding_dim,\n",
        "                  out_features=num_classes)\n",
        "    )\n",
        "\n",
        "  def forward(self,x):\n",
        "\n",
        "    #get some dimentions from x\n",
        "\n",
        "    batch_size = x.shape[0]\n",
        "\n",
        "    #Create the patch embedding\n",
        "    x = self.patch_embedding(x)\n",
        "    # print(x.shape)\n",
        "\n",
        "    #First, expand the class token across the batch size\n",
        "    class_token = self.class_token.expand(batch_size, -1, -1) ##-1 means infer the dimensic\n",
        "\n",
        "    #prepend the class token to the patch embedding\n",
        "    x = torch.cat((class_token, x), dim=1)\n",
        "    # print(x.shape)\n",
        "\n",
        "    #add the positional embedding to patch embedding with class token\n",
        "\n",
        "    x = self.positional_embedding + x\n",
        "    # print(x.shape)\n",
        "\n",
        "    #dropout on patch = positional embedding\n",
        "    x = self.embedding_dropout(x)\n",
        "\n",
        "    #pass embedding through Transformer encoder stack\n",
        "    x = self.transofrmer_encoder(x)\n",
        "\n",
        "    #pass 0th index of the x through MLP head\n",
        "\n",
        "    x = self.mlp_head(x[:, 0])\n",
        "\n",
        "    return x\n"
      ]
    },
    {
      "cell_type": "code",
      "execution_count": 19,
      "metadata": {
        "colab": {
          "base_uri": "https://localhost:8080/"
        },
        "id": "oWhXNk-fjSKW",
        "outputId": "e901af2a-074c-4434-d592-50a310d803b6"
      },
      "outputs": [
        {
          "output_type": "execute_result",
          "data": {
            "text/plain": [
              "tensor([[ 0.1225, -0.0797,  0.5152]], grad_fn=<AddmmBackward0>)"
            ]
          },
          "metadata": {},
          "execution_count": 19
        }
      ],
      "source": [
        "demo_img = torch.randn(1,3,224,224)\n",
        "# print(demo_img.shape)\n",
        "\n",
        "#create Vit\n",
        "vit = ViT(num_classes = len(class_names))\n",
        "vit(demo_img)"
      ]
    },
    {
      "cell_type": "code",
      "execution_count": 20,
      "metadata": {
        "colab": {
          "base_uri": "https://localhost:8080/"
        },
        "id": "S-ktTTpXSgtH",
        "outputId": "e9f42040-af96-438b-a3c0-ceba9ad6d8da"
      },
      "outputs": [
        {
          "output_type": "execute_result",
          "data": {
            "text/plain": [
              "3"
            ]
          },
          "metadata": {},
          "execution_count": 20
        }
      ],
      "source": [
        "len(class_names)"
      ]
    },
    {
      "cell_type": "code",
      "execution_count": 21,
      "metadata": {
        "colab": {
          "base_uri": "https://localhost:8080/"
        },
        "id": "17CjiZK1Sl8f",
        "outputId": "6812b24d-517e-44f4-d615-6045605c591c"
      },
      "outputs": [
        {
          "output_type": "execute_result",
          "data": {
            "text/plain": [
              "===============================================================================================\n",
              "Layer (type:depth-idx)                        Output Shape              Param #\n",
              "===============================================================================================\n",
              "ViT                                           [1, 1000]                 152,064\n",
              "├─PatchEmbedding: 1-1                         [1, 196, 768]             --\n",
              "│    └─Conv2d: 2-1                            [1, 768, 14, 14]          590,592\n",
              "│    └─Flatten: 2-2                           [1, 768, 196]             --\n",
              "├─Dropout: 1-2                                [1, 197, 768]             --\n",
              "├─TransformerEncoder: 1-3                     [1, 197, 768]             --\n",
              "│    └─ModuleList: 2-3                        --                        --\n",
              "│    │    └─TransformerEncoderLayer: 3-1      [1, 197, 768]             7,087,872\n",
              "│    │    └─TransformerEncoderLayer: 3-2      [1, 197, 768]             7,087,872\n",
              "│    │    └─TransformerEncoderLayer: 3-3      [1, 197, 768]             7,087,872\n",
              "│    │    └─TransformerEncoderLayer: 3-4      [1, 197, 768]             7,087,872\n",
              "│    │    └─TransformerEncoderLayer: 3-5      [1, 197, 768]             7,087,872\n",
              "│    │    └─TransformerEncoderLayer: 3-6      [1, 197, 768]             7,087,872\n",
              "│    │    └─TransformerEncoderLayer: 3-7      [1, 197, 768]             7,087,872\n",
              "│    │    └─TransformerEncoderLayer: 3-8      [1, 197, 768]             7,087,872\n",
              "│    │    └─TransformerEncoderLayer: 3-9      [1, 197, 768]             7,087,872\n",
              "│    │    └─TransformerEncoderLayer: 3-10     [1, 197, 768]             7,087,872\n",
              "│    │    └─TransformerEncoderLayer: 3-11     [1, 197, 768]             7,087,872\n",
              "│    │    └─TransformerEncoderLayer: 3-12     [1, 197, 768]             7,087,872\n",
              "├─Sequential: 1-4                             [1, 1000]                 --\n",
              "│    └─LayerNorm: 2-4                         [1, 768]                  1,536\n",
              "│    └─Linear: 2-5                            [1, 1000]                 769,000\n",
              "===============================================================================================\n",
              "Total params: 86,567,656\n",
              "Trainable params: 86,567,656\n",
              "Non-trainable params: 0\n",
              "Total mult-adds (M): 116.53\n",
              "===============================================================================================\n",
              "Input size (MB): 0.60\n",
              "Forward/backward pass size (MB): 1.22\n",
              "Params size (MB): 5.44\n",
              "Estimated Total Size (MB): 7.27\n",
              "==============================================================================================="
            ]
          },
          "metadata": {},
          "execution_count": 21
        }
      ],
      "source": [
        "#summery of ViT\n",
        "\n",
        "summary(model=ViT(num_classes=1000),\n",
        "        input_size=demo_img.shape)"
      ]
    },
    {
      "cell_type": "code",
      "execution_count": 22,
      "metadata": {
        "colab": {
          "base_uri": "https://localhost:8080/"
        },
        "id": "Ctyvk3Tlmzx3",
        "outputId": "4b5f99af-5b42-4a7e-8df1-3aec2ab84aed"
      },
      "outputs": [
        {
          "output_type": "execute_result",
          "data": {
            "text/plain": [
              "True"
            ]
          },
          "metadata": {},
          "execution_count": 22
        }
      ],
      "source": [
        "## Checking Class token\n",
        "\n",
        "embedding_dim =768\n",
        "class_token = nn.Parameter(torch.randn(1,1,embedding_dim),\n",
        "                           requires_grad = True)\n",
        "class_token.requires_grad"
      ]
    },
    {
      "cell_type": "code",
      "execution_count": 23,
      "metadata": {
        "colab": {
          "base_uri": "https://localhost:8080/"
        },
        "id": "gvj6VCp3nJxQ",
        "outputId": "67723c2f-494d-4528-c71d-91c665b3a6d7"
      },
      "outputs": [
        {
          "output_type": "execute_result",
          "data": {
            "text/plain": [
              "torch.Size([1, 197, 768])"
            ]
          },
          "metadata": {},
          "execution_count": 23
        }
      ],
      "source": [
        "## check positional embedding\n",
        "patch_size = 16\n",
        "img_size = 224\n",
        "num_patches = (img_size * img_size) // patch_size **2\n",
        "pos_embedding = nn.Parameter(torch.randn(1,num_patches+1,embedding_dim))\n",
        "pos_embedding.shape"
      ]
    },
    {
      "cell_type": "markdown",
      "metadata": {
        "id": "SEl_MBY8fXfQ"
      },
      "source": [
        "**Trun the custom ViT architecture we created into a python script, for example vit.py**\n",
        "that we can import entire ViT model using something like \"from vit import ViT\""
      ]
    },
    {
      "cell_type": "code",
      "execution_count": 24,
      "metadata": {
        "colab": {
          "base_uri": "https://localhost:8080/"
        },
        "id": "TatQCPz0nlix",
        "outputId": "e3f171ba-b0ac-4c46-9b4a-1de56348060d"
      },
      "outputs": [
        {
          "output_type": "stream",
          "name": "stdout",
          "text": [
            "Writing example.py\n"
          ]
        }
      ],
      "source": [
        "## example\n",
        "%%writefile example.py\n",
        "print(\"hello world I am vit.py!\")"
      ]
    },
    {
      "cell_type": "code",
      "execution_count": 25,
      "metadata": {
        "colab": {
          "base_uri": "https://localhost:8080/"
        },
        "id": "i13fyyOegEa7",
        "outputId": "40d1c963-46e4-4c15-fa47-af677f31a5ff"
      },
      "outputs": [
        {
          "output_type": "stream",
          "name": "stdout",
          "text": [
            "hello world I am vit.py!\n"
          ]
        }
      ],
      "source": [
        "!python example.py"
      ]
    },
    {
      "cell_type": "markdown",
      "metadata": {
        "id": "GPu9i_sjgW_O"
      },
      "source": [
        "To do that, we have to copy all vit model dependencies to a single cell and write it to file using the magic '%writefile FILENAME'."
      ]
    },
    {
      "cell_type": "code",
      "execution_count": 26,
      "metadata": {
        "colab": {
          "base_uri": "https://localhost:8080/"
        },
        "id": "4xrfvlzWgHFa",
        "outputId": "8d8f48b4-4ad3-45a8-d951-55b0502c7c04"
      },
      "outputs": [
        {
          "output_type": "stream",
          "name": "stdout",
          "text": [
            "Writing vit.py\n"
          ]
        }
      ],
      "source": [
        "%%writefile vit.py\n",
        "\n",
        "import torch\n",
        "from torch import nn\n",
        "\n",
        "\n",
        "# 1. Create a class which subclasses nn.Module\n",
        "class PatchEmbedding(nn.Module):\n",
        "    \"\"\"Turns a 2D input image into a 1D sequence learnable embedding vector.\n",
        "    \n",
        "    Args:\n",
        "        in_channels (int): Number of color channels for the input images. Defaults to 3.\n",
        "        patch_size (int): Size of patches to convert input image into. Defaults to 16.\n",
        "        embedding_dim (int): Size of embedding to turn image into. Defaults to 768.\n",
        "    \"\"\" \n",
        "    # 2. Initialize the class with appropriate variables\n",
        "    def __init__(self, \n",
        "                 in_channels:int=3,\n",
        "                 patch_size:int=16,\n",
        "                 embedding_dim:int=768):\n",
        "        super().__init__()\n",
        "        self.patch_size = patch_size\n",
        "        \n",
        "        # 3. Create a layer to turn an image into patches\n",
        "        self.patcher = nn.Conv2d(in_channels=in_channels,\n",
        "                                 out_channels=embedding_dim,\n",
        "                                 kernel_size=patch_size,\n",
        "                                 stride=patch_size,\n",
        "                                 padding=0)\n",
        "\n",
        "        # 4. Create a layer to flatten the patch feature maps into a single dimension\n",
        "        self.flatten = nn.Flatten(start_dim=2, # only flatten the feature map dimensions into a single vector\n",
        "                                  end_dim=3)\n",
        "\n",
        "    # 5. Define the forward method \n",
        "    def forward(self, x):\n",
        "        # Create assertion to check that inputs are the correct shape\n",
        "        image_resolution = x.shape[-1]\n",
        "        assert image_resolution % self.patch_size == 0, f\"Input image size must be divisble by patch size, image shape: {image_resolution}, patch size: {self.patch_size}\"\n",
        "        \n",
        "        # Perform the forward pass\n",
        "        x_patched = self.patcher(x)\n",
        "        x_flattened = self.flatten(x_patched) \n",
        "        # 6. Make sure the output shape has the right order \n",
        "        return x_flattened.permute(0, 2, 1) # adjust so the embedding is on the final dimension [batch_size, P^2•C, N] -> [batch_size, N, P^2•C]\n",
        "\n",
        "class ViT(nn.Module):\n",
        "  def __init__(self,\n",
        "               img_size = 224,\n",
        "               num_channels=3,\n",
        "               patch_size =16,\n",
        "               embedding_dim=768,\n",
        "               dropout=0.1,\n",
        "               mlp_size=3072,\n",
        "               num_transformer_layers=12,\n",
        "               num_heads=12,\n",
        "               num_classes=1000):\n",
        "    super().__init__()\n",
        "\n",
        "\n",
        "    ## Assert image size is devisible by patch size\n",
        "\n",
        "    assert img_size % patch_size == 0, \"image size must be divisble by patch size\"\n",
        "\n",
        "    #1. create patch Embedding\n",
        "\n",
        "    self.patch_embedding = PatchEmbedding(in_channels=num_channels,\n",
        "                                          patch_size = patch_size,\n",
        "                                          embedding_dim = embedding_dim)\n",
        "    \n",
        "    #2. Create class token\n",
        "\n",
        "    self.class_token = nn.Parameter(torch.randn(1,1,embedding_dim),\n",
        "                                    requires_grad=True)\n",
        "    \n",
        "    #3. Create positional embedding\n",
        "\n",
        "    num_patches = (img_size * img_size) // patch_size**2 # N = HW/p^2\n",
        "    self.positional_embedding = nn.Parameter(torch.randn(1, num_patches+1, embedding_dim))\n",
        "\n",
        "    #4. create patch + positional embedding drpout\n",
        "\n",
        "    self.embedding_dropout = nn.Dropout(p=dropout)\n",
        "\n",
        "    #5. create Transformer Encoder layer(single)\n",
        "    # self.transformer_encoder_layer = nn.TransformerEncoderLayer(d_model=embedding_dim,\n",
        "    #                                                             nhead=num_heads,\n",
        "    #                                                             dim_feedforward=mlp_size,\n",
        "    #                                                             activation=\"gelu\",\n",
        "    #                                                             batch_first=True,\n",
        "    #                                                             norm_first=True)\n",
        "    #6. Create stack Transformer Encoder layer (stacked single layer)\n",
        "    self.transofrmer_encoder = nn.TransformerEncoder(encoder_layer = nn.TransformerEncoderLayer(d_model=embedding_dim,\n",
        "                                                                                                nhead=num_heads,\n",
        "                                                                                                dim_feedforward=mlp_size,\n",
        "                                                                                                activation=\"gelu\",\n",
        "                                                                                                batch_first=True,\n",
        "                                                                                                norm_first=True), #create single Transformer Encoder layer\n",
        "                                                     num_layers=num_transformer_layers) #stack it N times\n",
        "    \n",
        "    #7 create MLP head\n",
        "\n",
        "    self.mlp_head = nn.Sequential(\n",
        "        nn.LayerNorm(normalized_shape=embedding_dim),\n",
        "        nn.Linear(in_features=embedding_dim,\n",
        "                  out_features=num_classes)\n",
        "    )\n",
        "\n",
        "  def forward(self,x):\n",
        "\n",
        "    #get some dimentions from x\n",
        "\n",
        "    batch_size = x.shape[0]\n",
        "\n",
        "    #Create the patch embedding\n",
        "    x = self.patch_embedding(x)\n",
        "    # print(x.shape)\n",
        "\n",
        "    #First, expand the class token across the batch size\n",
        "    class_token = self.class_token.expand(batch_size, -1, -1) ##-1 means infer the dimensic\n",
        "\n",
        "    #prepend the class token to the patch embedding\n",
        "    x = torch.cat((class_token, x), dim=1)\n",
        "    # print(x.shape)\n",
        "\n",
        "    #add the positional embedding to patch embedding with class token\n",
        "\n",
        "    x = self.positional_embedding + x\n",
        "    # print(x.shape)\n",
        "\n",
        "    #dropout on patch = positional embedding\n",
        "    x = self.embedding_dropout(x)\n",
        "\n",
        "    #pass embedding through Transformer encoder stack\n",
        "    x = self.transofrmer_encoder(x)\n",
        "\n",
        "    #pass 0th index of the x through MLP head\n",
        "\n",
        "    x = self.mlp_head(x[:, 0])\n",
        "\n",
        "    return x\n"
      ]
    },
    {
      "cell_type": "code",
      "execution_count": 27,
      "metadata": {
        "id": "FYQ7lkO1CfOI"
      },
      "outputs": [],
      "source": [
        "!python vit.py"
      ]
    },
    {
      "cell_type": "code",
      "execution_count": 28,
      "metadata": {
        "colab": {
          "base_uri": "https://localhost:8080/"
        },
        "id": "st3JrFsBC4sf",
        "outputId": "ea816aed-3e91-4b8f-a5fe-15aaa39474a3"
      },
      "outputs": [
        {
          "output_type": "execute_result",
          "data": {
            "text/plain": [
              "===============================================================================================\n",
              "Layer (type:depth-idx)                        Output Shape              Param #\n",
              "===============================================================================================\n",
              "ViT                                           [1, 1000]                 152,064\n",
              "├─PatchEmbedding: 1-1                         [1, 196, 768]             --\n",
              "│    └─Conv2d: 2-1                            [1, 768, 14, 14]          590,592\n",
              "│    └─Flatten: 2-2                           [1, 768, 196]             --\n",
              "├─Dropout: 1-2                                [1, 197, 768]             --\n",
              "├─TransformerEncoder: 1-3                     [1, 197, 768]             --\n",
              "│    └─ModuleList: 2-3                        --                        --\n",
              "│    │    └─TransformerEncoderLayer: 3-1      [1, 197, 768]             7,087,872\n",
              "│    │    └─TransformerEncoderLayer: 3-2      [1, 197, 768]             7,087,872\n",
              "│    │    └─TransformerEncoderLayer: 3-3      [1, 197, 768]             7,087,872\n",
              "│    │    └─TransformerEncoderLayer: 3-4      [1, 197, 768]             7,087,872\n",
              "│    │    └─TransformerEncoderLayer: 3-5      [1, 197, 768]             7,087,872\n",
              "│    │    └─TransformerEncoderLayer: 3-6      [1, 197, 768]             7,087,872\n",
              "│    │    └─TransformerEncoderLayer: 3-7      [1, 197, 768]             7,087,872\n",
              "│    │    └─TransformerEncoderLayer: 3-8      [1, 197, 768]             7,087,872\n",
              "│    │    └─TransformerEncoderLayer: 3-9      [1, 197, 768]             7,087,872\n",
              "│    │    └─TransformerEncoderLayer: 3-10     [1, 197, 768]             7,087,872\n",
              "│    │    └─TransformerEncoderLayer: 3-11     [1, 197, 768]             7,087,872\n",
              "│    │    └─TransformerEncoderLayer: 3-12     [1, 197, 768]             7,087,872\n",
              "├─Sequential: 1-4                             [1, 1000]                 --\n",
              "│    └─LayerNorm: 2-4                         [1, 768]                  1,536\n",
              "│    └─Linear: 2-5                            [1, 1000]                 769,000\n",
              "===============================================================================================\n",
              "Total params: 86,567,656\n",
              "Trainable params: 86,567,656\n",
              "Non-trainable params: 0\n",
              "Total mult-adds (M): 116.53\n",
              "===============================================================================================\n",
              "Input size (MB): 0.60\n",
              "Forward/backward pass size (MB): 1.22\n",
              "Params size (MB): 5.44\n",
              "Estimated Total Size (MB): 7.27\n",
              "==============================================================================================="
            ]
          },
          "metadata": {},
          "execution_count": 28
        }
      ],
      "source": [
        "from vit import ViT\n",
        "imported_vit = ViT()\n",
        "summary(model=imported_vit,\n",
        "        input_size =(1,3,224,224))"
      ]
    },
    {
      "cell_type": "markdown",
      "metadata": {
        "id": "Kny0A3cELBrW"
      },
      "source": [
        "**Train a pretrained ViT feature Extractor model on 20% of the pizza, steak and sushi data.**"
      ]
    },
    {
      "cell_type": "code",
      "execution_count": 29,
      "metadata": {
        "colab": {
          "base_uri": "https://localhost:8080/"
        },
        "id": "rsbRGqQsDEMt",
        "outputId": "f2ead76d-f7a5-42a5-a559-1d8359b71f02"
      },
      "outputs": [
        {
          "output_type": "stream",
          "name": "stderr",
          "text": [
            "Downloading: \"https://download.pytorch.org/models/vit_b_16-c867db91.pth\" to /root/.cache/torch/hub/checkpoints/vit_b_16-c867db91.pth\n",
            "100%|██████████| 330M/330M [00:08<00:00, 38.5MB/s]\n"
          ]
        },
        {
          "output_type": "execute_result",
          "data": {
            "text/plain": [
              "============================================================================================================================================\n",
              "Layer (type (var_name))                                      Input Shape          Output Shape         Param #              Trainable\n",
              "============================================================================================================================================\n",
              "VisionTransformer (VisionTransformer)                        [1, 3, 224, 224]     [1, 3]               768                  Partial\n",
              "├─Conv2d (conv_proj)                                         [1, 3, 224, 224]     [1, 768, 14, 14]     (590,592)            False\n",
              "├─Encoder (encoder)                                          [1, 197, 768]        [1, 197, 768]        151,296              False\n",
              "│    └─Dropout (dropout)                                     [1, 197, 768]        [1, 197, 768]        --                   --\n",
              "│    └─Sequential (layers)                                   [1, 197, 768]        [1, 197, 768]        --                   False\n",
              "│    │    └─EncoderBlock (encoder_layer_0)                   [1, 197, 768]        [1, 197, 768]        (7,087,872)          False\n",
              "│    │    └─EncoderBlock (encoder_layer_1)                   [1, 197, 768]        [1, 197, 768]        (7,087,872)          False\n",
              "│    │    └─EncoderBlock (encoder_layer_2)                   [1, 197, 768]        [1, 197, 768]        (7,087,872)          False\n",
              "│    │    └─EncoderBlock (encoder_layer_3)                   [1, 197, 768]        [1, 197, 768]        (7,087,872)          False\n",
              "│    │    └─EncoderBlock (encoder_layer_4)                   [1, 197, 768]        [1, 197, 768]        (7,087,872)          False\n",
              "│    │    └─EncoderBlock (encoder_layer_5)                   [1, 197, 768]        [1, 197, 768]        (7,087,872)          False\n",
              "│    │    └─EncoderBlock (encoder_layer_6)                   [1, 197, 768]        [1, 197, 768]        (7,087,872)          False\n",
              "│    │    └─EncoderBlock (encoder_layer_7)                   [1, 197, 768]        [1, 197, 768]        (7,087,872)          False\n",
              "│    │    └─EncoderBlock (encoder_layer_8)                   [1, 197, 768]        [1, 197, 768]        (7,087,872)          False\n",
              "│    │    └─EncoderBlock (encoder_layer_9)                   [1, 197, 768]        [1, 197, 768]        (7,087,872)          False\n",
              "│    │    └─EncoderBlock (encoder_layer_10)                  [1, 197, 768]        [1, 197, 768]        (7,087,872)          False\n",
              "│    │    └─EncoderBlock (encoder_layer_11)                  [1, 197, 768]        [1, 197, 768]        (7,087,872)          False\n",
              "│    └─LayerNorm (ln)                                        [1, 197, 768]        [1, 197, 768]        (1,536)              False\n",
              "├─Sequential (heads)                                         [1, 768]             [1, 3]               --                   True\n",
              "│    └─LayerNorm (0)                                         [1, 768]             [1, 768]             1,536                True\n",
              "│    └─Linear (1)                                            [1, 768]             [1, 3]               2,307                True\n",
              "============================================================================================================================================\n",
              "Total params: 85,802,499\n",
              "Trainable params: 3,843\n",
              "Non-trainable params: 85,798,656\n",
              "Total mult-adds (M): 172.47\n",
              "============================================================================================================================================\n",
              "Input size (MB): 0.60\n",
              "Forward/backward pass size (MB): 104.09\n",
              "Params size (MB): 229.21\n",
              "Estimated Total Size (MB): 333.90\n",
              "============================================================================================================================================"
            ]
          },
          "metadata": {},
          "execution_count": 29
        }
      ],
      "source": [
        "#create vit feature extractor model\n",
        "\n",
        "import torchvision\n",
        "\n",
        "#download pretrained vit weights and model\n",
        "\n",
        "vit_weights = torchvision.models.ViT_B_16_Weights.DEFAULT #Default means best available weights\n",
        "pretrained_vit = torchvision.models.vit_b_16(weights=vit_weights)\n",
        "pretrained_vit\n",
        "\n",
        "# Freeze all layers in preptrained ViT model\n",
        "\n",
        "for param in pretrained_vit.parameters():\n",
        "  param.requires_grad = False\n",
        "\n",
        "#update the pretrained vit head\n",
        "embedding_dim = 768\n",
        "set_seeds()\n",
        "pretrained_vit.heads = nn.Sequential(\n",
        "    nn.LayerNorm(normalized_shape=embedding_dim),\n",
        "    nn.Linear(in_features=embedding_dim,\n",
        "              out_features=len(class_names))\n",
        ")\n",
        "\n",
        "# Get a summary\n",
        "summary(model=pretrained_vit,\n",
        "        input_size=(1,3,224,224),\n",
        "        col_names=[\"input_size\", \"output_size\", \"num_params\", \"trainable\" ],\n",
        "        col_width=20,\n",
        "        row_settings=[\"var_names\"]\n",
        ")"
      ]
    },
    {
      "cell_type": "code",
      "execution_count": 30,
      "metadata": {
        "colab": {
          "base_uri": "https://localhost:8080/"
        },
        "id": "r8CAj-NrRYtV",
        "outputId": "eadd73fd-0073-45ce-e717-8474cfd2d022"
      },
      "outputs": [
        {
          "output_type": "stream",
          "name": "stdout",
          "text": [
            "[INFO] Did not find data/pizza_steak_sushi_20_percent directory, creating one...\n",
            "[INFO] Downloading pizza_steak_sushi_20_percent.zip from https://github.com/mrdbourke/pytorch-deep-learning/raw/main/data/pizza_steak_sushi_20_percent.zip...\n",
            "[INFO] Unzipping pizza_steak_sushi_20_percent.zip data...\n"
          ]
        }
      ],
      "source": [
        "## get 20% os the data\n",
        "data_20_percent_path = download_data(source=\"https://github.com/mrdbourke/pytorch-deep-learning/raw/main/data/pizza_steak_sushi_20_percent.zip\",\n",
        "                                     destination=\"pizza_steak_sushi_20_percent\")\n",
        "\n",
        "#setup train and test directories\n",
        "\n",
        "train_dir_20_percent = data_20_percent_path / \"train\"\n",
        "# test_dir_20_percent = data_20_percent_path / \"test\"   ''' no need test data, cz we will keep the test data same but the train data will be different'''\n",
        "\n",
        "#preprocess the data\n",
        "\n",
        "vit_transforms = vit_weights.transforms()  # get Transforms from vit_weights\n",
        "\n",
        "train_data_loader_20_percent, test_dataloader, class_names = data_setup.create_dataloaders(train_dir=train_dir_20_percent,\n",
        "                                                                                           test_dir=test_dir,\n",
        "                                                                                           transform=vit_transforms,\n",
        "                                                                                           batch_size=1024)"
      ]
    },
    {
      "cell_type": "code",
      "execution_count": 31,
      "metadata": {
        "colab": {
          "base_uri": "https://localhost:8080/"
        },
        "id": "INhf7vKSh3uo",
        "outputId": "c4baf83b-b499-4312-a34c-a3842c99dc64"
      },
      "outputs": [
        {
          "output_type": "execute_result",
          "data": {
            "text/plain": [
              "(8, 1, 1)"
            ]
          },
          "metadata": {},
          "execution_count": 31
        }
      ],
      "source": [
        "len(train_dataloader), len(train_data_loader_20_percent),len(test_dataloader)"
      ]
    },
    {
      "cell_type": "code",
      "execution_count": 32,
      "metadata": {
        "colab": {
          "base_uri": "https://localhost:8080/",
          "height": 223,
          "referenced_widgets": [
            "c9689fb544ba4a788ed954b98c8c141b",
            "d0ed52bf7e4b4a03b4a403631f1d3896",
            "95c004092bb4455d91d89ca8b6608424",
            "987d8918a20342a79cebce510e8c7741",
            "8f89dcc64060489997d0ada246bf47cd",
            "11c41869715a445eb6fcad30ca5540a5",
            "8cb3acd878e249bfb3d7b868100cf7b0",
            "aadefbc08bba4f4a8b30f11c985dee64",
            "96893c030adc4cc9b8d8890ada8f3d4f",
            "525a3cd299eb4ef692972bd4cfc63127",
            "de8356d86a2648098c9b1c845e4aa012"
          ]
        },
        "id": "J1ITxSKJiCaY",
        "outputId": "6cbb4b40-740a-4404-826a-70b5be2e49ff"
      },
      "outputs": [
        {
          "data": {
            "application/vnd.jupyter.widget-view+json": {
              "model_id": "c9689fb544ba4a788ed954b98c8c141b",
              "version_major": 2,
              "version_minor": 0
            },
            "text/plain": [
              "  0%|          | 0/10 [00:00<?, ?it/s]"
            ]
          },
          "metadata": {},
          "output_type": "display_data"
        },
        {
          "output_type": "stream",
          "name": "stdout",
          "text": [
            "Epoch: 1 | train_loss: 1.2183 | train_acc: 0.2333 | test_loss: 1.0267 | test_acc: 0.4933\n",
            "Epoch: 2 | train_loss: 0.9652 | train_acc: 0.5222 | test_loss: 0.8170 | test_acc: 0.6267\n",
            "Epoch: 3 | train_loss: 0.7699 | train_acc: 0.7333 | test_loss: 0.6600 | test_acc: 0.7200\n",
            "Epoch: 4 | train_loss: 0.6225 | train_acc: 0.8244 | test_loss: 0.5423 | test_acc: 0.7867\n",
            "Epoch: 5 | train_loss: 0.5119 | train_acc: 0.8711 | test_loss: 0.4536 | test_acc: 0.8667\n",
            "Epoch: 6 | train_loss: 0.4290 | train_acc: 0.8867 | test_loss: 0.3865 | test_acc: 0.8800\n",
            "Epoch: 7 | train_loss: 0.3668 | train_acc: 0.9044 | test_loss: 0.3357 | test_acc: 0.8933\n",
            "Epoch: 8 | train_loss: 0.3199 | train_acc: 0.9156 | test_loss: 0.2973 | test_acc: 0.8933\n",
            "Epoch: 9 | train_loss: 0.2841 | train_acc: 0.9200 | test_loss: 0.2680 | test_acc: 0.9200\n",
            "Epoch: 10 | train_loss: 0.2564 | train_acc: 0.9244 | test_loss: 0.2457 | test_acc: 0.9333\n"
          ]
        }
      ],
      "source": [
        "## train a pretrained vit feature extractor\n",
        "\n",
        "# from going_moduler.going_moduler import engine\n",
        "\n",
        "set_seeds()\n",
        "\n",
        "optimizer = torch.optim.Adam(params=pretrained_vit.parameters(),\n",
        "                             lr = 1e-3)\n",
        "loss_fn = torch.nn.CrossEntropyLoss()\n",
        "\n",
        "set_seeds()\n",
        "pretrained_vit_results = engine.train(model=pretrained_vit,\n",
        "                                      train_dataloader=train_data_loader_20_percent,\n",
        "                                      test_dataloader=test_dataloader,\n",
        "                                      optimizer=optimizer,\n",
        "                                      loss_fn=loss_fn,\n",
        "                                      epochs=10,\n",
        "                                      device=device)"
      ]
    },
    {
      "cell_type": "code",
      "execution_count": 33,
      "metadata": {
        "id": "A6vubZzTjZod",
        "colab": {
          "base_uri": "https://localhost:8080/",
          "height": 641
        },
        "outputId": "4214581c-ea50-455d-e4d2-0be09f8085e4"
      },
      "outputs": [
        {
          "output_type": "display_data",
          "data": {
            "text/plain": [
              "<Figure size 1500x700 with 2 Axes>"
            ],
            "image/png": "[encoded data removed]"
          },
          "metadata": {}
        }
      ],
      "source": [
        "from helper_functions import plot_loss_curves\n",
        "\n",
        "plot_loss_curves(pretrained_vit_results)"
      ]
    },
    {
      "cell_type": "markdown",
      "metadata": {
        "id": "9vbRnkBUp9uS"
      },
      "source": [
        "Try the same pre-trained method as before but with different pretrained wright -SWAG which is unlabeled dataset."
      ]
    },
    {
      "cell_type": "code",
      "execution_count": 34,
      "metadata": {
        "id": "JMKEIe4Hptf1",
        "colab": {
          "base_uri": "https://localhost:8080/"
        },
        "outputId": "3bcbc228-5d2b-46f8-a0ae-110b81c90cce"
      },
      "outputs": [
        {
          "output_type": "stream",
          "name": "stderr",
          "text": [
            "Downloading: \"https://download.pytorch.org/models/vit_b_16_swag-9ac1b537.pth\" to /root/.cache/torch/hub/checkpoints/vit_b_16_swag-9ac1b537.pth\n",
            "100%|██████████| 331M/331M [00:05<00:00, 64.0MB/s]\n"
          ]
        },
        {
          "output_type": "execute_result",
          "data": {
            "text/plain": [
              "============================================================================================================================================\n",
              "Layer (type (var_name))                                      Input Shape          Output Shape         Param #              Trainable\n",
              "============================================================================================================================================\n",
              "VisionTransformer (VisionTransformer)                        [1, 3, 384, 384]     [1, 3]               768                  Partial\n",
              "├─Conv2d (conv_proj)                                         [1, 3, 384, 384]     [1, 768, 24, 24]     (590,592)            False\n",
              "├─Encoder (encoder)                                          [1, 577, 768]        [1, 577, 768]        443,136              False\n",
              "│    └─Dropout (dropout)                                     [1, 577, 768]        [1, 577, 768]        --                   --\n",
              "│    └─Sequential (layers)                                   [1, 577, 768]        [1, 577, 768]        --                   False\n",
              "│    │    └─EncoderBlock (encoder_layer_0)                   [1, 577, 768]        [1, 577, 768]        (7,087,872)          False\n",
              "│    │    └─EncoderBlock (encoder_layer_1)                   [1, 577, 768]        [1, 577, 768]        (7,087,872)          False\n",
              "│    │    └─EncoderBlock (encoder_layer_2)                   [1, 577, 768]        [1, 577, 768]        (7,087,872)          False\n",
              "│    │    └─EncoderBlock (encoder_layer_3)                   [1, 577, 768]        [1, 577, 768]        (7,087,872)          False\n",
              "│    │    └─EncoderBlock (encoder_layer_4)                   [1, 577, 768]        [1, 577, 768]        (7,087,872)          False\n",
              "│    │    └─EncoderBlock (encoder_layer_5)                   [1, 577, 768]        [1, 577, 768]        (7,087,872)          False\n",
              "│    │    └─EncoderBlock (encoder_layer_6)                   [1, 577, 768]        [1, 577, 768]        (7,087,872)          False\n",
              "│    │    └─EncoderBlock (encoder_layer_7)                   [1, 577, 768]        [1, 577, 768]        (7,087,872)          False\n",
              "│    │    └─EncoderBlock (encoder_layer_8)                   [1, 577, 768]        [1, 577, 768]        (7,087,872)          False\n",
              "│    │    └─EncoderBlock (encoder_layer_9)                   [1, 577, 768]        [1, 577, 768]        (7,087,872)          False\n",
              "│    │    └─EncoderBlock (encoder_layer_10)                  [1, 577, 768]        [1, 577, 768]        (7,087,872)          False\n",
              "│    │    └─EncoderBlock (encoder_layer_11)                  [1, 577, 768]        [1, 577, 768]        (7,087,872)          False\n",
              "│    └─LayerNorm (ln)                                        [1, 577, 768]        [1, 577, 768]        (1,536)              False\n",
              "├─Sequential (heads)                                         [1, 768]             [1, 3]               --                   True\n",
              "│    └─LayerNorm (0)                                         [1, 768]             [1, 768]             1,536                True\n",
              "│    └─Linear (1)                                            [1, 768]             [1, 3]               2,307                True\n",
              "============================================================================================================================================\n",
              "Total params: 86,094,339\n",
              "Trainable params: 3,843\n",
              "Non-trainable params: 86,090,496\n",
              "Total mult-adds (M): 396.89\n",
              "============================================================================================================================================\n",
              "Input size (MB): 1.77\n",
              "Forward/backward pass size (MB): 304.88\n",
              "Params size (MB): 229.21\n",
              "Estimated Total Size (MB): 535.86\n",
              "============================================================================================================================================"
            ]
          },
          "metadata": {},
          "execution_count": 34
        }
      ],
      "source": [
        "#create vit feature extractor model\n",
        "\n",
        "import torchvision\n",
        "\n",
        "#download pretrained vit weights and model\n",
        "\n",
        "vit_weights_swag = torchvision.models.ViT_B_16_Weights.IMAGENET1K_SWAG_E2E_V1 #Default means best available weights\n",
        "pretrained_vit_swag = torchvision.models.vit_b_16(weights=vit_weights_swag)\n",
        "pretrained_vit_swag\n",
        "\n",
        "# Freeze all layers in preptrained ViT model\n",
        "\n",
        "for param in pretrained_vit_swag.parameters():\n",
        "  param.requires_grad = False\n",
        "\n",
        "#update the pretrained vit head\n",
        "embedding_dim = 768\n",
        "set_seeds()\n",
        "pretrained_vit_swag.heads = nn.Sequential(\n",
        "    nn.LayerNorm(normalized_shape=embedding_dim),\n",
        "    nn.Linear(in_features=embedding_dim,\n",
        "              out_features=len(class_names))\n",
        ")\n",
        "\n",
        "# Get a summary\n",
        "summary(model=pretrained_vit_swag,\n",
        "        input_size=(1,3,384,384),  ## the minimum input size of ViT swag\n",
        "        col_names=[\"input_size\", \"output_size\", \"num_params\", \"trainable\" ],\n",
        "        col_width=20,\n",
        "        row_settings=[\"var_names\"]\n",
        ")"
      ]
    },
    {
      "cell_type": "code",
      "execution_count": 35,
      "metadata": {
        "id": "xo0hPBFsy1ky",
        "colab": {
          "base_uri": "https://localhost:8080/"
        },
        "outputId": "0de204d4-feb8-4ed2-91c3-bd2ac68a0bce"
      },
      "outputs": [
        {
          "output_type": "execute_result",
          "data": {
            "text/plain": [
              "ImageClassification(\n",
              "    crop_size=[224]\n",
              "    resize_size=[256]\n",
              "    mean=[0.485, 0.456, 0.406]\n",
              "    std=[0.229, 0.224, 0.225]\n",
              "    interpolation=InterpolationMode.BILINEAR\n",
              ")"
            ]
          },
          "metadata": {},
          "execution_count": 35
        }
      ],
      "source": [
        "#checkout transforms\n",
        "vit_transforms_swag = vit_weights.transforms()  # get Transforms from vit_weights_swag\n",
        "vit_transforms_swag"
      ]
    },
    {
      "cell_type": "code",
      "execution_count": 36,
      "metadata": {
        "id": "hvkBI_Ibtwor",
        "colab": {
          "base_uri": "https://localhost:8080/"
        },
        "outputId": "2fb62046-bd19-4a75-f372-ad8b8a2470e9"
      },
      "outputs": [
        {
          "output_type": "stream",
          "name": "stdout",
          "text": [
            "[INFO] data/pizza_steak_sushi_20_percent directory exists, skipping download.\n"
          ]
        }
      ],
      "source": [
        "## get 20% os the data\n",
        "data_20_percent_path = download_data(source=\"https://github.com/mrdbourke/pytorch-deep-learning/raw/main/data/pizza_steak_sushi_20_percent.zip\",\n",
        "                                     destination=\"pizza_steak_sushi_20_percent\")\n",
        "\n",
        "#setup train and test directories\n",
        "\n",
        "train_dir_20_percent = data_20_percent_path / \"train\"\n",
        "# test_dir_20_percent = data_20_percent_path / \"test\"   ''' no need test data, cz we will keep the test data same but the train data will be different'''\n",
        "\n",
        "#preprocess the data\n",
        "\n",
        "# vit_transforms_swag = vit_weights.transforms()  # get Transforms from vit_weights\n",
        "\n",
        "train_data_loader_20_percent, test_dataloader, class_names = data_setup.create_dataloaders(train_dir=train_dir_20_percent,\n",
        "                                                                                           test_dir=test_dir,\n",
        "                                                                                           transform=vit_transforms,\n",
        "                                                                                           batch_size=32)"
      ]
    },
    {
      "cell_type": "code",
      "execution_count": 37,
      "metadata": {
        "id": "63P1NkZJ0LIG",
        "colab": {
          "base_uri": "https://localhost:8080/",
          "height": 223,
          "referenced_widgets": [
            "e3bd0e3c7008460b870eaa9f35e7a645",
            "0403151264964eac9eaa321eb9a4351d",
            "e71d9f9b0884486e80a1fd89ba79a68a",
            "04b15354c85844108e1c3fb0a695d704",
            "0b700de5bd7b4893a0d59739ac32db54",
            "babae83c88b74ebb8b841c98a6584dc7",
            "b3bed5eff8c642908f2dedde50365590",
            "80fc650eca7e4ef9bfa2cb3542dd8e0b",
            "5ab3816921a24929902b391dd8d5e889",
            "e8c4c081850c48dc849ca489984499c0",
            "d1448ea35ff14ec6b4504b0e0dd5f04e"
          ]
        },
        "outputId": "b499292c-0ace-4b00-ab57-f2b97c17cb07"
      },
      "outputs": [
        {
          "output_type": "display_data",
          "data": {
            "text/plain": [
              "  0%|          | 0/10 [00:00<?, ?it/s]"
            ],
            "application/vnd.jupyter.widget-view+json": {
              "version_major": 2,
              "version_minor": 0,
              "model_id": "e3bd0e3c7008460b870eaa9f35e7a645"
            }
          },
          "metadata": {}
        },
        {
          "output_type": "stream",
          "name": "stdout",
          "text": [
            "Epoch: 1 | train_loss: 0.3156 | train_acc: 0.9104 | test_loss: 0.1891 | test_acc: 0.9280\n",
            "Epoch: 2 | train_loss: 0.1269 | train_acc: 0.9667 | test_loss: 0.1989 | test_acc: 0.9280\n",
            "Epoch: 3 | train_loss: 0.0954 | train_acc: 0.9750 | test_loss: 0.1860 | test_acc: 0.9688\n",
            "Epoch: 4 | train_loss: 0.0673 | train_acc: 0.9812 | test_loss: 0.1768 | test_acc: 0.9688\n",
            "Epoch: 5 | train_loss: 0.0589 | train_acc: 0.9833 | test_loss: 0.1778 | test_acc: 0.9280\n",
            "Epoch: 6 | train_loss: 0.0613 | train_acc: 0.9896 | test_loss: 0.1743 | test_acc: 0.9583\n",
            "Epoch: 7 | train_loss: 0.0449 | train_acc: 0.9938 | test_loss: 0.1836 | test_acc: 0.9583\n",
            "Epoch: 8 | train_loss: 0.0387 | train_acc: 0.9979 | test_loss: 0.2006 | test_acc: 0.9384\n",
            "Epoch: 9 | train_loss: 0.0468 | train_acc: 0.9979 | test_loss: 0.2012 | test_acc: 0.9384\n",
            "Epoch: 10 | train_loss: 0.0287 | train_acc: 1.0000 | test_loss: 0.1915 | test_acc: 0.9583\n"
          ]
        }
      ],
      "source": [
        "## train a pretrained vit feature extractor with swag weights\n",
        "\n",
        "# from going_moduler.going_moduler import engine\n",
        "\n",
        "set_seeds()\n",
        "\n",
        "optimizer_swag = torch.optim.Adam(params=pretrained_vit_swag.parameters(),\n",
        "                             lr = 1e-3)\n",
        "loss_fn = torch.nn.CrossEntropyLoss()\n",
        "\n",
        "set_seeds()\n",
        "pretrained_vit_swag_results = engine.train(model=pretrained_vit,\n",
        "                                      train_dataloader=train_data_loader_20_percent,\n",
        "                                      test_dataloader=test_dataloader,\n",
        "                                      optimizer=optimizer,\n",
        "                                      loss_fn=loss_fn,\n",
        "                                      epochs=10,\n",
        "                                      device=device)"
      ]
    },
    {
      "cell_type": "markdown",
      "source": [
        "Thank you."
      ],
      "metadata": {
        "id": "XNDLaM5yl6hU"
      }
    }
  ],
  "metadata": {
    "accelerator": "TPU",
    "colab": {
      "provenance": []
    },
    "gpuClass": "standard",
    "kernelspec": {
      "display_name": "Python 3",
      "name": "python3"
    },
    "language_info": {
      "name": "python"
    },
    "widgets": {
      "application/vnd.jupyter.widget-state+json": {
        "c9689fb544ba4a788ed954b98c8c141b": {
          "model_module": "@jupyter-widgets/controls",
          "model_name": "HBoxModel",
          "model_module_version": "1.5.0",
          "state": {
            "_dom_classes": [],
            "_model_module": "@jupyter-widgets/controls",
            "_model_module_version": "1.5.0",
            "_model_name": "HBoxModel",
            "_view_count": null,
            "_view_module": "@jupyter-widgets/controls",
            "_view_module_version": "1.5.0",
            "_view_name": "HBoxView",
            "box_style": "",
            "children": [
              "IPY_MODEL_d0ed52bf7e4b4a03b4a403631f1d3896",
              "IPY_MODEL_95c004092bb4455d91d89ca8b6608424",
              "IPY_MODEL_987d8918a20342a79cebce510e8c7741"
            ],
            "layout": "IPY_MODEL_8f89dcc64060489997d0ada246bf47cd"
          }
        },
        "d0ed52bf7e4b4a03b4a403631f1d3896": {
          "model_module": "@jupyter-widgets/controls",
          "model_name": "HTMLModel",
          "model_module_version": "1.5.0",
          "state": {
            "_dom_classes": [],
            "_model_module": "@jupyter-widgets/controls",
            "_model_module_version": "1.5.0",
            "_model_name": "HTMLModel",
            "_view_count": null,
            "_view_module": "@jupyter-widgets/controls",
            "_view_module_version": "1.5.0",
            "_view_name": "HTMLView",
            "description": "",
            "description_tooltip": null,
            "layout": "IPY_MODEL_11c41869715a445eb6fcad30ca5540a5",
            "placeholder": "​",
            "style": "IPY_MODEL_8cb3acd878e249bfb3d7b868100cf7b0",
            "value": "100%"
          }
        },
        "95c004092bb4455d91d89ca8b6608424": {
          "model_module": "@jupyter-widgets/controls",
          "model_name": "FloatProgressModel",
          "model_module_version": "1.5.0",
          "state": {
            "_dom_classes": [],
            "_model_module": "@jupyter-widgets/controls",
            "_model_module_version": "1.5.0",
            "_model_name": "FloatProgressModel",
            "_view_count": null,
            "_view_module": "@jupyter-widgets/controls",
            "_view_module_version": "1.5.0",
            "_view_name": "ProgressView",
            "bar_style": "success",
            "description": "",
            "description_tooltip": null,
            "layout": "IPY_MODEL_aadefbc08bba4f4a8b30f11c985dee64",
            "max": 10,
            "min": 0,
            "orientation": "horizontal",
            "style": "IPY_MODEL_96893c030adc4cc9b8d8890ada8f3d4f",
            "value": 10
          }
        },
        "987d8918a20342a79cebce510e8c7741": {
          "model_module": "@jupyter-widgets/controls",
          "model_name": "HTMLModel",
          "model_module_version": "1.5.0",
          "state": {
            "_dom_classes": [],
            "_model_module": "@jupyter-widgets/controls",
            "_model_module_version": "1.5.0",
            "_model_name": "HTMLModel",
            "_view_count": null,
            "_view_module": "@jupyter-widgets/controls",
            "_view_module_version": "1.5.0",
            "_view_name": "HTMLView",
            "description": "",
            "description_tooltip": null,
            "layout": "IPY_MODEL_525a3cd299eb4ef692972bd4cfc63127",
            "placeholder": "​",
            "style": "IPY_MODEL_de8356d86a2648098c9b1c845e4aa012",
            "value": " 10/10 [1:12:15&lt;00:00, 422.45s/it]"
          }
        },
        "8f89dcc64060489997d0ada246bf47cd": {
          "model_module": "@jupyter-widgets/base",
          "model_name": "LayoutModel",
          "model_module_version": "1.2.0",
          "state": {
            "_model_module": "@jupyter-widgets/base",
            "_model_module_version": "1.2.0",
            "_model_name": "LayoutModel",
            "_view_count": null,
            "_view_module": "@jupyter-widgets/base",
            "_view_module_version": "1.2.0",
            "_view_name": "LayoutView",
            "align_content": null,
            "align_items": null,
            "align_self": null,
            "border": null,
            "bottom": null,
            "display": null,
            "flex": null,
            "flex_flow": null,
            "grid_area": null,
            "grid_auto_columns": null,
            "grid_auto_flow": null,
            "grid_auto_rows": null,
            "grid_column": null,
            "grid_gap": null,
            "grid_row": null,
            "grid_template_areas": null,
            "grid_template_columns": null,
            "grid_template_rows": null,
            "height": null,
            "justify_content": null,
            "justify_items": null,
            "left": null,
            "margin": null,
            "max_height": null,
            "max_width": null,
            "min_height": null,
            "min_width": null,
            "object_fit": null,
            "object_position": null,
            "order": null,
            "overflow": null,
            "overflow_x": null,
            "overflow_y": null,
            "padding": null,
            "right": null,
            "top": null,
            "visibility": null,
            "width": null
          }
        },
        "11c41869715a445eb6fcad30ca5540a5": {
          "model_module": "@jupyter-widgets/base",
          "model_name": "LayoutModel",
          "model_module_version": "1.2.0",
          "state": {
            "_model_module": "@jupyter-widgets/base",
            "_model_module_version": "1.2.0",
            "_model_name": "LayoutModel",
            "_view_count": null,
            "_view_module": "@jupyter-widgets/base",
            "_view_module_version": "1.2.0",
            "_view_name": "LayoutView",
            "align_content": null,
            "align_items": null,
            "align_self": null,
            "border": null,
            "bottom": null,
            "display": null,
            "flex": null,
            "flex_flow": null,
            "grid_area": null,
            "grid_auto_columns": null,
            "grid_auto_flow": null,
            "grid_auto_rows": null,
            "grid_column": null,
            "grid_gap": null,
            "grid_row": null,
            "grid_template_areas": null,
            "grid_template_columns": null,
            "grid_template_rows": null,
            "height": null,
            "justify_content": null,
            "justify_items": null,
            "left": null,
            "margin": null,
            "max_height": null,
            "max_width": null,
            "min_height": null,
            "min_width": null,
            "object_fit": null,
            "object_position": null,
            "order": null,
            "overflow": null,
            "overflow_x": null,
            "overflow_y": null,
            "padding": null,
            "right": null,
            "top": null,
            "visibility": null,
            "width": null
          }
        },
        "8cb3acd878e249bfb3d7b868100cf7b0": {
          "model_module": "@jupyter-widgets/controls",
          "model_name": "DescriptionStyleModel",
          "model_module_version": "1.5.0",
          "state": {
            "_model_module": "@jupyter-widgets/controls",
            "_model_module_version": "1.5.0",
            "_model_name": "DescriptionStyleModel",
            "_view_count": null,
            "_view_module": "@jupyter-widgets/base",
            "_view_module_version": "1.2.0",
            "_view_name": "StyleView",
            "description_width": ""
          }
        },
        "aadefbc08bba4f4a8b30f11c985dee64": {
          "model_module": "@jupyter-widgets/base",
          "model_name": "LayoutModel",
          "model_module_version": "1.2.0",
          "state": {
            "_model_module": "@jupyter-widgets/base",
            "_model_module_version": "1.2.0",
            "_model_name": "LayoutModel",
            "_view_count": null,
            "_view_module": "@jupyter-widgets/base",
            "_view_module_version": "1.2.0",
            "_view_name": "LayoutView",
            "align_content": null,
            "align_items": null,
            "align_self": null,
            "border": null,
            "bottom": null,
            "display": null,
            "flex": null,
            "flex_flow": null,
            "grid_area": null,
            "grid_auto_columns": null,
            "grid_auto_flow": null,
            "grid_auto_rows": null,
            "grid_column": null,
            "grid_gap": null,
            "grid_row": null,
            "grid_template_areas": null,
            "grid_template_columns": null,
            "grid_template_rows": null,
            "height": null,
            "justify_content": null,
            "justify_items": null,
            "left": null,
            "margin": null,
            "max_height": null,
            "max_width": null,
            "min_height": null,
            "min_width": null,
            "object_fit": null,
            "object_position": null,
            "order": null,
            "overflow": null,
            "overflow_x": null,
            "overflow_y": null,
            "padding": null,
            "right": null,
            "top": null,
            "visibility": null,
            "width": null
          }
        },
        "96893c030adc4cc9b8d8890ada8f3d4f": {
          "model_module": "@jupyter-widgets/controls",
          "model_name": "ProgressStyleModel",
          "model_module_version": "1.5.0",
          "state": {
            "_model_module": "@jupyter-widgets/controls",
            "_model_module_version": "1.5.0",
            "_model_name": "ProgressStyleModel",
            "_view_count": null,
            "_view_module": "@jupyter-widgets/base",
            "_view_module_version": "1.2.0",
            "_view_name": "StyleView",
            "bar_color": null,
            "description_width": ""
          }
        },
        "525a3cd299eb4ef692972bd4cfc63127": {
          "model_module": "@jupyter-widgets/base",
          "model_name": "LayoutModel",
          "model_module_version": "1.2.0",
          "state": {
            "_model_module": "@jupyter-widgets/base",
            "_model_module_version": "1.2.0",
            "_model_name": "LayoutModel",
            "_view_count": null,
            "_view_module": "@jupyter-widgets/base",
            "_view_module_version": "1.2.0",
            "_view_name": "LayoutView",
            "align_content": null,
            "align_items": null,
            "align_self": null,
            "border": null,
            "bottom": null,
            "display": null,
            "flex": null,
            "flex_flow": null,
            "grid_area": null,
            "grid_auto_columns": null,
            "grid_auto_flow": null,
            "grid_auto_rows": null,
            "grid_column": null,
            "grid_gap": null,
            "grid_row": null,
            "grid_template_areas": null,
            "grid_template_columns": null,
            "grid_template_rows": null,
            "height": null,
            "justify_content": null,
            "justify_items": null,
            "left": null,
            "margin": null,
            "max_height": null,
            "max_width": null,
            "min_height": null,
            "min_width": null,
            "object_fit": null,
            "object_position": null,
            "order": null,
            "overflow": null,
            "overflow_x": null,
            "overflow_y": null,
            "padding": null,
            "right": null,
            "top": null,
            "visibility": null,
            "width": null
          }
        },
        "de8356d86a2648098c9b1c845e4aa012": {
          "model_module": "@jupyter-widgets/controls",
          "model_name": "DescriptionStyleModel",
          "model_module_version": "1.5.0",
          "state": {
            "_model_module": "@jupyter-widgets/controls",
            "_model_module_version": "1.5.0",
            "_model_name": "DescriptionStyleModel",
            "_view_count": null,
            "_view_module": "@jupyter-widgets/base",
            "_view_module_version": "1.2.0",
            "_view_name": "StyleView",
            "description_width": ""
          }
        },
        "e3bd0e3c7008460b870eaa9f35e7a645": {
          "model_module": "@jupyter-widgets/controls",
          "model_name": "HBoxModel",
          "model_module_version": "1.5.0",
          "state": {
            "_dom_classes": [],
            "_model_module": "@jupyter-widgets/controls",
            "_model_module_version": "1.5.0",
            "_model_name": "HBoxModel",
            "_view_count": null,
            "_view_module": "@jupyter-widgets/controls",
            "_view_module_version": "1.5.0",
            "_view_name": "HBoxView",
            "box_style": "",
            "children": [
              "IPY_MODEL_0403151264964eac9eaa321eb9a4351d",
              "IPY_MODEL_e71d9f9b0884486e80a1fd89ba79a68a",
              "IPY_MODEL_04b15354c85844108e1c3fb0a695d704"
            ],
            "layout": "IPY_MODEL_0b700de5bd7b4893a0d59739ac32db54"
          }
        },
        "0403151264964eac9eaa321eb9a4351d": {
          "model_module": "@jupyter-widgets/controls",
          "model_name": "HTMLModel",
          "model_module_version": "1.5.0",
          "state": {
            "_dom_classes": [],
            "_model_module": "@jupyter-widgets/controls",
            "_model_module_version": "1.5.0",
            "_model_name": "HTMLModel",
            "_view_count": null,
            "_view_module": "@jupyter-widgets/controls",
            "_view_module_version": "1.5.0",
            "_view_name": "HTMLView",
            "description": "",
            "description_tooltip": null,
            "layout": "IPY_MODEL_babae83c88b74ebb8b841c98a6584dc7",
            "placeholder": "​",
            "style": "IPY_MODEL_b3bed5eff8c642908f2dedde50365590",
            "value": "100%"
          }
        },
        "e71d9f9b0884486e80a1fd89ba79a68a": {
          "model_module": "@jupyter-widgets/controls",
          "model_name": "FloatProgressModel",
          "model_module_version": "1.5.0",
          "state": {
            "_dom_classes": [],
            "_model_module": "@jupyter-widgets/controls",
            "_model_module_version": "1.5.0",
            "_model_name": "FloatProgressModel",
            "_view_count": null,
            "_view_module": "@jupyter-widgets/controls",
            "_view_module_version": "1.5.0",
            "_view_name": "ProgressView",
            "bar_style": "success",
            "description": "",
            "description_tooltip": null,
            "layout": "IPY_MODEL_80fc650eca7e4ef9bfa2cb3542dd8e0b",
            "max": 10,
            "min": 0,
            "orientation": "horizontal",
            "style": "IPY_MODEL_5ab3816921a24929902b391dd8d5e889",
            "value": 10
          }
        },
        "04b15354c85844108e1c3fb0a695d704": {
          "model_module": "@jupyter-widgets/controls",
          "model_name": "HTMLModel",
          "model_module_version": "1.5.0",
          "state": {
            "_dom_classes": [],
            "_model_module": "@jupyter-widgets/controls",
            "_model_module_version": "1.5.0",
            "_model_name": "HTMLModel",
            "_view_count": null,
            "_view_module": "@jupyter-widgets/controls",
            "_view_module_version": "1.5.0",
            "_view_name": "HTMLView",
            "description": "",
            "description_tooltip": null,
            "layout": "IPY_MODEL_e8c4c081850c48dc849ca489984499c0",
            "placeholder": "​",
            "style": "IPY_MODEL_d1448ea35ff14ec6b4504b0e0dd5f04e",
            "value": " 10/10 [1:05:27&lt;00:00, 391.30s/it]"
          }
        },
        "0b700de5bd7b4893a0d59739ac32db54": {
          "model_module": "@jupyter-widgets/base",
          "model_name": "LayoutModel",
          "model_module_version": "1.2.0",
          "state": {
            "_model_module": "@jupyter-widgets/base",
            "_model_module_version": "1.2.0",
            "_model_name": "LayoutModel",
            "_view_count": null,
            "_view_module": "@jupyter-widgets/base",
            "_view_module_version": "1.2.0",
            "_view_name": "LayoutView",
            "align_content": null,
            "align_items": null,
            "align_self": null,
            "border": null,
            "bottom": null,
            "display": null,
            "flex": null,
            "flex_flow": null,
            "grid_area": null,
            "grid_auto_columns": null,
            "grid_auto_flow": null,
            "grid_auto_rows": null,
            "grid_column": null,
            "grid_gap": null,
            "grid_row": null,
            "grid_template_areas": null,
            "grid_template_columns": null,
            "grid_template_rows": null,
            "height": null,
            "justify_content": null,
            "justify_items": null,
            "left": null,
            "margin": null,
            "max_height": null,
            "max_width": null,
            "min_height": null,
            "min_width": null,
            "object_fit": null,
            "object_position": null,
            "order": null,
            "overflow": null,
            "overflow_x": null,
            "overflow_y": null,
            "padding": null,
            "right": null,
            "top": null,
            "visibility": null,
            "width": null
          }
        },
        "babae83c88b74ebb8b841c98a6584dc7": {
          "model_module": "@jupyter-widgets/base",
          "model_name": "LayoutModel",
          "model_module_version": "1.2.0",
          "state": {
            "_model_module": "@jupyter-widgets/base",
            "_model_module_version": "1.2.0",
            "_model_name": "LayoutModel",
            "_view_count": null,
            "_view_module": "@jupyter-widgets/base",
            "_view_module_version": "1.2.0",
            "_view_name": "LayoutView",
            "align_content": null,
            "align_items": null,
            "align_self": null,
            "border": null,
            "bottom": null,
            "display": null,
            "flex": null,
            "flex_flow": null,
            "grid_area": null,
            "grid_auto_columns": null,
            "grid_auto_flow": null,
            "grid_auto_rows": null,
            "grid_column": null,
            "grid_gap": null,
            "grid_row": null,
            "grid_template_areas": null,
            "grid_template_columns": null,
            "grid_template_rows": null,
            "height": null,
            "justify_content": null,
            "justify_items": null,
            "left": null,
            "margin": null,
            "max_height": null,
            "max_width": null,
            "min_height": null,
            "min_width": null,
            "object_fit": null,
            "object_position": null,
            "order": null,
            "overflow": null,
            "overflow_x": null,
            "overflow_y": null,
            "padding": null,
            "right": null,
            "top": null,
            "visibility": null,
            "width": null
          }
        },
        "b3bed5eff8c642908f2dedde50365590": {
          "model_module": "@jupyter-widgets/controls",
          "model_name": "DescriptionStyleModel",
          "model_module_version": "1.5.0",
          "state": {
            "_model_module": "@jupyter-widgets/controls",
            "_model_module_version": "1.5.0",
            "_model_name": "DescriptionStyleModel",
            "_view_count": null,
            "_view_module": "@jupyter-widgets/base",
            "_view_module_version": "1.2.0",
            "_view_name": "StyleView",
            "description_width": ""
          }
        },
        "80fc650eca7e4ef9bfa2cb3542dd8e0b": {
          "model_module": "@jupyter-widgets/base",
          "model_name": "LayoutModel",
          "model_module_version": "1.2.0",
          "state": {
            "_model_module": "@jupyter-widgets/base",
            "_model_module_version": "1.2.0",
            "_model_name": "LayoutModel",
            "_view_count": null,
            "_view_module": "@jupyter-widgets/base",
            "_view_module_version": "1.2.0",
            "_view_name": "LayoutView",
            "align_content": null,
            "align_items": null,
            "align_self": null,
            "border": null,
            "bottom": null,
            "display": null,
            "flex": null,
            "flex_flow": null,
            "grid_area": null,
            "grid_auto_columns": null,
            "grid_auto_flow": null,
            "grid_auto_rows": null,
            "grid_column": null,
            "grid_gap": null,
            "grid_row": null,
            "grid_template_areas": null,
            "grid_template_columns": null,
            "grid_template_rows": null,
            "height": null,
            "justify_content": null,
            "justify_items": null,
            "left": null,
            "margin": null,
            "max_height": null,
            "max_width": null,
            "min_height": null,
            "min_width": null,
            "object_fit": null,
            "object_position": null,
            "order": null,
            "overflow": null,
            "overflow_x": null,
            "overflow_y": null,
            "padding": null,
            "right": null,
            "top": null,
            "visibility": null,
            "width": null
          }
        },
        "5ab3816921a24929902b391dd8d5e889": {
          "model_module": "@jupyter-widgets/controls",
          "model_name": "ProgressStyleModel",
          "model_module_version": "1.5.0",
          "state": {
            "_model_module": "@jupyter-widgets/controls",
            "_model_module_version": "1.5.0",
            "_model_name": "ProgressStyleModel",
            "_view_count": null,
            "_view_module": "@jupyter-widgets/base",
            "_view_module_version": "1.2.0",
            "_view_name": "StyleView",
            "bar_color": null,
            "description_width": ""
          }
        },
        "e8c4c081850c48dc849ca489984499c0": {
          "model_module": "@jupyter-widgets/base",
          "model_name": "LayoutModel",
          "model_module_version": "1.2.0",
          "state": {
            "_model_module": "@jupyter-widgets/base",
            "_model_module_version": "1.2.0",
            "_model_name": "LayoutModel",
            "_view_count": null,
            "_view_module": "@jupyter-widgets/base",
            "_view_module_version": "1.2.0",
            "_view_name": "LayoutView",
            "align_content": null,
            "align_items": null,
            "align_self": null,
            "border": null,
            "bottom": null,
            "display": null,
            "flex": null,
            "flex_flow": null,
            "grid_area": null,
            "grid_auto_columns": null,
            "grid_auto_flow": null,
            "grid_auto_rows": null,
            "grid_column": null,
            "grid_gap": null,
            "grid_row": null,
            "grid_template_areas": null,
            "grid_template_columns": null,
            "grid_template_rows": null,
            "height": null,
            "justify_content": null,
            "justify_items": null,
            "left": null,
            "margin": null,
            "max_height": null,
            "max_width": null,
            "min_height": null,
            "min_width": null,
            "object_fit": null,
            "object_position": null,
            "order": null,
            "overflow": null,
            "overflow_x": null,
            "overflow_y": null,
            "padding": null,
            "right": null,
            "top": null,
            "visibility": null,
            "width": null
          }
        },
        "d1448ea35ff14ec6b4504b0e0dd5f04e": {
          "model_module": "@jupyter-widgets/controls",
          "model_name": "DescriptionStyleModel",
          "model_module_version": "1.5.0",
          "state": {
            "_model_module": "@jupyter-widgets/controls",
            "_model_module_version": "1.5.0",
            "_model_name": "DescriptionStyleModel",
            "_view_count": null,
            "_view_module": "@jupyter-widgets/base",
            "_view_module_version": "1.2.0",
            "_view_name": "StyleView",
            "description_width": ""
          }
        }
      }
    }
  },
  "nbformat": 4,
  "nbformat_minor": 0
}